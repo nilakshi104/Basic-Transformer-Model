{
  "nbformat": 4,
  "nbformat_minor": 0,
  "metadata": {
    "colab": {
      "name": "Using custom dataloader.ipynb",
      "provenance": [],
      "collapsed_sections": [],
      "mount_file_id": "1MXuCceIBeSCcKzzLGjQhY7ozk3_HnikL",
      "authorship_tag": "ABX9TyP944R2jo4cbG2qzn0cVU4B",
      "include_colab_link": true
    },
    "kernelspec": {
      "name": "python3",
      "display_name": "Python 3"
    },
    "accelerator": "GPU"
  },
  "cells": [
    {
      "cell_type": "markdown",
      "metadata": {
        "id": "view-in-github",
        "colab_type": "text"
      },
      "source": [
        "<a href=\"https://colab.research.google.com/github/nilakshi104/Basic-Transformer-Model/blob/main/Using_custom_dataloader.ipynb\" target=\"_parent\"><img src=\"https://colab.research.google.com/assets/colab-badge.svg\" alt=\"Open In Colab\"/></a>"
      ]
    },
    {
      "cell_type": "code",
      "metadata": {
        "id": "aQ1LNIMyuDDL",
        "colab": {
          "base_uri": "https://localhost:8080/"
        },
        "outputId": "de1f35fa-7080-448d-db70-b08f3dde9f82"
      },
      "source": [
        "!pip install torchtext==0.6.0 #run this cell & restart to avoid error while using bleu_score"
      ],
      "execution_count": 1,
      "outputs": [
        {
          "output_type": "stream",
          "text": [
            "Collecting torchtext==0.6.0\n",
            "\u001b[?25l  Downloading https://files.pythonhosted.org/packages/f2/17/e7c588245aece7aa93f360894179374830daf60d7ed0bbb59332de3b3b61/torchtext-0.6.0-py3-none-any.whl (64kB)\n",
            "\r\u001b[K     |█████                           | 10kB 23.8MB/s eta 0:00:01\r\u001b[K     |██████████▏                     | 20kB 30.3MB/s eta 0:00:01\r\u001b[K     |███████████████▎                | 30kB 18.5MB/s eta 0:00:01\r\u001b[K     |████████████████████▍           | 40kB 13.3MB/s eta 0:00:01\r\u001b[K     |█████████████████████████▌      | 51kB 12.7MB/s eta 0:00:01\r\u001b[K     |██████████████████████████████▋ | 61kB 12.7MB/s eta 0:00:01\r\u001b[K     |████████████████████████████████| 71kB 7.2MB/s \n",
            "\u001b[?25hRequirement already satisfied: tqdm in /usr/local/lib/python3.6/dist-packages (from torchtext==0.6.0) (4.41.1)\n",
            "Collecting sentencepiece\n",
            "\u001b[?25l  Downloading https://files.pythonhosted.org/packages/14/67/e42bd1181472c95c8cda79305df848264f2a7f62740995a46945d9797b67/sentencepiece-0.1.95-cp36-cp36m-manylinux2014_x86_64.whl (1.2MB)\n",
            "\u001b[K     |████████████████████████████████| 1.2MB 26.4MB/s \n",
            "\u001b[?25hRequirement already satisfied: numpy in /usr/local/lib/python3.6/dist-packages (from torchtext==0.6.0) (1.19.5)\n",
            "Requirement already satisfied: torch in /usr/local/lib/python3.6/dist-packages (from torchtext==0.6.0) (1.7.0+cu101)\n",
            "Requirement already satisfied: six in /usr/local/lib/python3.6/dist-packages (from torchtext==0.6.0) (1.15.0)\n",
            "Requirement already satisfied: requests in /usr/local/lib/python3.6/dist-packages (from torchtext==0.6.0) (2.23.0)\n",
            "Requirement already satisfied: dataclasses in /usr/local/lib/python3.6/dist-packages (from torch->torchtext==0.6.0) (0.8)\n",
            "Requirement already satisfied: future in /usr/local/lib/python3.6/dist-packages (from torch->torchtext==0.6.0) (0.16.0)\n",
            "Requirement already satisfied: typing-extensions in /usr/local/lib/python3.6/dist-packages (from torch->torchtext==0.6.0) (3.7.4.3)\n",
            "Requirement already satisfied: urllib3!=1.25.0,!=1.25.1,<1.26,>=1.21.1 in /usr/local/lib/python3.6/dist-packages (from requests->torchtext==0.6.0) (1.24.3)\n",
            "Requirement already satisfied: idna<3,>=2.5 in /usr/local/lib/python3.6/dist-packages (from requests->torchtext==0.6.0) (2.10)\n",
            "Requirement already satisfied: certifi>=2017.4.17 in /usr/local/lib/python3.6/dist-packages (from requests->torchtext==0.6.0) (2020.12.5)\n",
            "Requirement already satisfied: chardet<4,>=3.0.2 in /usr/local/lib/python3.6/dist-packages (from requests->torchtext==0.6.0) (3.0.4)\n",
            "Installing collected packages: sentencepiece, torchtext\n",
            "  Found existing installation: torchtext 0.3.1\n",
            "    Uninstalling torchtext-0.3.1:\n",
            "      Successfully uninstalled torchtext-0.3.1\n",
            "Successfully installed sentencepiece-0.1.95 torchtext-0.6.0\n"
          ],
          "name": "stdout"
        }
      ]
    },
    {
      "cell_type": "code",
      "metadata": {
        "id": "5C3ulXOeuS-w"
      },
      "source": [
        "#Pytorch Libraries\n",
        "import torch\n",
        "import torch.nn as nn\n",
        "import torch.optim as optim\n",
        "\n",
        "#torchtext package consists of data processing utilities and popular datasets for natural language.\n",
        "import torchtext\n",
        "from torchtext.data import Field, BucketIterator, TabularDataset\n",
        "\n",
        "#Plotting graphs\n",
        "import matplotlib.pyplot as plt\n",
        "import matplotlib.ticker as ticker\n",
        "\n",
        "#To tokenize sentence using spacy models\n",
        "import spacy\n",
        "\n",
        "#storing \\n separated data in tabular form using pd.DataFrame\n",
        "import pandas as pd\n",
        "\n",
        "import numpy as np\n",
        "import random\n",
        "import math\n",
        "import time"
      ],
      "execution_count": 2,
      "outputs": []
    },
    {
      "cell_type": "code",
      "metadata": {
        "id": "bI64A7hVuY0O"
      },
      "source": [
        "#to reproduce results\n",
        "SEED=1234\n",
        "\n",
        "random.seed(SEED)\n",
        "np.random.seed(SEED)\n",
        "torch.manual_seed(SEED)\n",
        "torch.cuda.manual_seed(SEED)\n",
        "torch.backends.cudnn.deterministic = True"
      ],
      "execution_count": 3,
      "outputs": []
    },
    {
      "cell_type": "markdown",
      "metadata": {
        "id": "jlx5w-RLgeb9"
      },
      "source": [
        "The code after the ! is not Python but a shell command. It’s an easy way to use these commands in a Jupyter Notebook instead of opening up a terminal and entering the command there."
      ]
    },
    {
      "cell_type": "code",
      "metadata": {
        "id": "zzoCrW3wy6XK"
      },
      "source": [
        "#Downloading dataset\n",
        "# ! mkdir -p '/content/drive/MyDrive/Projects/NLP/data/sequence to sequence /German_to_English Basic TransformerModel/multi30k'\n",
        "# ! wget http://www.quest.dcs.shef.ac.uk/wmt16_files_mmt/training.tar.gz &&  tar -xf training.tar.gz -C '/content/drive/MyDrive/Projects/NLP/data/sequence to sequence /German_to_English Basic TransformerModel/multi30k' && rm training.tar.gz\n",
        "# ! wget http://www.quest.dcs.shef.ac.uk/wmt16_files_mmt/validation.tar.gz && tar -xf validation.tar.gz -C '/content/drive/MyDrive/Projects/NLP/data/sequence to sequence /German_to_English Basic TransformerModel/multi30k' && rm validation.tar.gz\n",
        "# ! wget http://www.quest.dcs.shef.ac.uk/wmt16_files_mmt/mmt16_task1_test.tar.gz && tar -xf mmt16_task1_test.tar.gz -C '/content/drive/MyDrive/Projects/NLP/data/sequence to sequence /German_to_English Basic TransformerModel/multi30k' && rm mmt16_task1_test.tar.gz"
      ],
      "execution_count": 4,
      "outputs": []
    },
    {
      "cell_type": "code",
      "metadata": {
        "id": "BbBOwM_syhW3"
      },
      "source": [
        "path='/content/drive/MyDrive/Projects/NLP/data/sequence to sequence /German_to_English Basic TransformerModel/multi30k/'\n",
        "train_en=open(path+'train.en',encoding='utf-8').read().split('\\n')\n",
        "train_de=open(path+'train.de',encoding='utf-8').read().split('\\n')\n",
        "test_en=open(path+'test.en',encoding='utf-8').read().split('\\n')\n",
        "test_de=open(path+'test.de',encoding='utf-8').read().split('\\n')\n",
        "val_en=open(path+'val.en',encoding='utf-8').read().split('\\n')\n",
        "val_de=open(path+'val.de',encoding='utf-8').read().split('\\n')"
      ],
      "execution_count": 5,
      "outputs": []
    },
    {
      "cell_type": "code",
      "metadata": {
        "id": "fdOBp763u7lN"
      },
      "source": [
        "#downloading spacy models\n",
        "!python -m spacy download de\n",
        "!python -m spacy download en"
      ],
      "execution_count": null,
      "outputs": []
    },
    {
      "cell_type": "code",
      "metadata": {
        "id": "GVzSf2Zbubgg"
      },
      "source": [
        "spacy_de = spacy.load('de')  #loading spacy model for german lang\n",
        "spacy_en = spacy.load('en')  #loading spacy model for english lang"
      ],
      "execution_count": 8,
      "outputs": []
    },
    {
      "cell_type": "code",
      "metadata": {
        "colab": {
          "base_uri": "https://localhost:8080/"
        },
        "id": "YvwPjvNP-Z-o",
        "outputId": "0b377ab9-51e1-4eb0-dc24-dd752e364337"
      },
      "source": [
        "device=torch.device('cuda' if torch.cuda.is_available() else 'cpu')\n",
        "device"
      ],
      "execution_count": 9,
      "outputs": [
        {
          "output_type": "execute_result",
          "data": {
            "text/plain": [
              "device(type='cuda')"
            ]
          },
          "metadata": {
            "tags": []
          },
          "execution_count": 9
        }
      ]
    },
    {
      "cell_type": "markdown",
      "metadata": {
        "id": "zWzHgtPtnikE"
      },
      "source": [
        "## Making Dataset ready for Encoder and Decoder\n",
        "\n",
        "The best way to work with Torchtext is to turn data in spreadsheet format, no matter the original format of data file. As using Torchtext TabularDataset function we can create datasets from spreadsheet formats for that we need to convert data in CSV formate.\n",
        "\n",
        "* step 1)store data in dataframe with two coulmns. First col for source language and second col for target language.\n",
        "\n",
        "* step 2)save dataframe in .csv file\n",
        "\n",
        "* step 3)pass address of train,validation,test .csv files as input to torchtext.data.TabularDataset which will output train_data,validation_data,test_data\n",
        "\n",
        "* step 4)Now index all tokens in german and english using SRC.build_vocab and TRG.build_vocab respectively where SRC and TRG are field class instances \n",
        "\n",
        "* step 5)Creating Batches using BucketIterator. \n",
        "\n",
        "After performing all steps will get train_iterator, valid_iterator, test_iterator with specified batch_size and sentences arranged in ascending order of source length i.e. greman here while creating batch"
      ]
    },
    {
      "cell_type": "code",
      "metadata": {
        "id": "P8HiIR8kveGJ"
      },
      "source": [
        "#Define tokenizer\n",
        "def tokenize_de(text):\n",
        "  return [tok.text for tok in spacy_de.tokenizer(text)]\n",
        "\n",
        "def tokenize_en(text):\n",
        "  return [tok.text for tok in spacy_en.tokenizer(text)]"
      ],
      "execution_count": 10,
      "outputs": []
    },
    {
      "cell_type": "code",
      "metadata": {
        "id": "UhAM_WQJtmkL"
      },
      "source": [
        "#defining instance of field class which will perform preprocessing of data. NOTE: Always consider SRC as langauge that is to be translated and TRG as lang to which translation is aimed at. \n",
        "SRC=Field(tokenize=tokenize_de,\n",
        "          init_token='<sos>',\n",
        "          eos_token='<eos>',\n",
        "          lower=True,  #Whether to lowercase the text in field.\n",
        "          batch_first=True)  #since model expects - tensors with batch_dimension first\n",
        "\n",
        "TRG=Field(tokenize=tokenize_en,\n",
        "          init_token='<sos>',\n",
        "          eos_token='<eos>',\n",
        "          lower=True,\n",
        "          batch_first=True)"
      ],
      "execution_count": 11,
      "outputs": []
    },
    {
      "cell_type": "code",
      "metadata": {
        "id": "0WXgm1QItmaN"
      },
      "source": [
        "train_data = {'german':[line for line in train_de],'english':[line for line in train_en]}\n",
        "train_df = pd.DataFrame(train_data, columns=['german','english'])\n",
        "\n",
        "val_data = {'german':[line for line in val_de],'english':[line for line in val_en]}\n",
        "val_df = pd.DataFrame(val_data, columns=['german','english'])\n",
        "\n",
        "test_data = {'german':[line for line in test_de],'english':[line for line in test_en]}\n",
        "test_df = pd.DataFrame(test_data, columns=['german','english'])\n",
        "# remove very long sentences and sentences where translations are \n",
        "# not of roughly equal lengthdf['eng_len'] = df['English'].str.count(' ')\n",
        "# df['fr_len'] = df['French'].str.count(' ')\n",
        "# df = df.query('fr_len < 80 & eng_len < 80')\n",
        "# df = df.query('fr_len < eng_len * 1.5 & fr_len * 1.5 > eng_len')"
      ],
      "execution_count": 12,
      "outputs": []
    },
    {
      "cell_type": "code",
      "metadata": {
        "id": "Ewfrw8tEx8VQ"
      },
      "source": [
        "train_df.to_csv(\"/content/drive/MyDrive/Projects/NLP/data/sequence to sequence /German_to_English Basic TransformerModel/multi30k/csv_files/train.csv\", index=False)\n",
        "val_df.to_csv(\"/content/drive/MyDrive/Projects/NLP/data/sequence to sequence /German_to_English Basic TransformerModel/multi30k/csv_files/val.csv\", index=False)\n",
        "test_df.to_csv(\"/content/drive/MyDrive/Projects/NLP/data/sequence to sequence /German_to_English Basic TransformerModel/multi30k/csv_files/test.csv\", index=False)"
      ],
      "execution_count": 13,
      "outputs": []
    },
    {
      "cell_type": "code",
      "metadata": {
        "id": "Z4kTNYApyXPD"
      },
      "source": [
        "data_fields= [('german',SRC),('english',TRG)]  #input language followed by output language\n",
        "\n",
        "train_data,valid_data,test_data = torchtext.data.TabularDataset.splits(path='/content/drive/MyDrive/Projects/NLP/data/sequence to sequence /German_to_English Basic TransformerModel/multi30k/csv_files/', train='train.csv', validation='val.csv', test='test.csv',format='csv', fields=data_fields)"
      ],
      "execution_count": 14,
      "outputs": []
    },
    {
      "cell_type": "code",
      "metadata": {
        "id": "fIyj8RwXz5gu"
      },
      "source": [
        "SRC.build_vocab(train_data, min_freq=2) #words with occurance less than min_freq are replaced with UNK token\n",
        "TRG.build_vocab(train_data, min_freq=2)"
      ],
      "execution_count": 15,
      "outputs": []
    },
    {
      "cell_type": "code",
      "metadata": {
        "id": "Nhz9SQ6Yz5X3"
      },
      "source": [
        "# print(TRG.vocab.stoi['the'])\n",
        "# print(TRG.vocab.itos[7])"
      ],
      "execution_count": 16,
      "outputs": []
    },
    {
      "cell_type": "code",
      "metadata": {
        "id": "Uf00pbmn0z2S"
      },
      "source": [
        "# train_iterator,valid_iterator,test_iterator= BucketIterator.splits(\n",
        "#     (train_data,val_data,test_data),\n",
        "#     batch_size=128, \n",
        "#     sort_key=lambda x: len(x.src), \n",
        "#     # shuffle=True,\n",
        "#     device=device)\n",
        "train_iterator = BucketIterator(train_data, batch_size=128, sort_key=lambda x: len(x.german), shuffle=True,device=device)\n",
        "valid_iterator = BucketIterator(valid_data, batch_size=128, sort_key=lambda x: len(x.german), shuffle=True,device=device)\n",
        "test_iterator = BucketIterator(test_data, batch_size=128, sort_key=lambda x: len(x.german), shuffle=True,device=device)"
      ],
      "execution_count": 17,
      "outputs": []
    },
    {
      "cell_type": "markdown",
      "metadata": {
        "id": "8j6dEq7HtZcr"
      },
      "source": [
        "## Encoder"
      ]
    },
    {
      "cell_type": "code",
      "metadata": {
        "id": "IqrP1_0I8PfH"
      },
      "source": [
        "class Encoder(nn.Module):\n",
        "  def __init__(self,\n",
        "               input_dim,  #vocabulary size\n",
        "               hid_dim, #second dimension of standard embedding and positional embedding = hid_dim\n",
        "               n_layers,  #no. of layers of encoder =6 (from paper)\n",
        "               n_heads,   # no. of heads in multihead = 8 (from ppr)\n",
        "               pf_dim,  #For positionwise_feedforward layer\n",
        "               dropout,   # 0.1 (from ppr)\n",
        "               device,\n",
        "               max_length=100): #Max 100 words are allowed in sentence\n",
        "\n",
        "    super().__init__()\n",
        "\n",
        "    self.device=device\n",
        "    self.tok_embedding=nn.Embedding(input_dim,hid_dim)\n",
        "    self.pos_embedding=nn.Embedding(max_length,hid_dim)\n",
        "    self.layers=nn.ModuleList([EncoderLayer(hid_dim,\n",
        "                                            n_heads,\n",
        "                                            pf_dim,\n",
        "                                            dropout,\n",
        "                                            device)\n",
        "                              for _ in range(n_layers)])\n",
        "    self.dropout=nn.Dropout(dropout)\n",
        "    self.scale=torch.sqrt(torch.FloatTensor([hid_dim])).to(device)  #WHY TO(DEVICE)??????\n",
        "\n",
        "  def forward(self,src,src_mask):\n",
        "\n",
        "    #src =[ batch size, src_len]\n",
        "    #src_mask=[batch_size,1,1,src_len]  ...In later steps src_mask is applied on energy of dim=[batch_size,n_heads,query_len,src_len] so aacordingly new dim are added in src_mask \n",
        "\n",
        "    batch_size= src.shape[0]\n",
        "    src_len =src.shape[1]\n",
        "\n",
        "    pos=torch.arange(0,src_len).unsqueeze(0).repeat(batch_size,1).to(self.device)\n",
        "\n",
        "    # pos = tensor([0,1,2,3-----------,src_len-1],\n",
        "    #              [0,1,2,3-----------,src_len-1],\n",
        "    #              [0,1,2,3-----------,src_len-1],\n",
        "    #              [0,1,2,3-----------,src_len-1],\n",
        "    #              [0,1,2,3-----------,src_len-1])\n",
        "\n",
        "    # pos = [batch_size, src_len]\n",
        "\n",
        "    # Before adding std embedding to pos embedding, std embd are multiplied by sqrt(hid_dim) this supposedly reduces variance in the embeddings and model is difficult to train reliably without this scaling factor. \n",
        "    #after adding sqrt(hid_dim)*std_embd to pos_embd, dropout is applied to addition\n",
        "\n",
        "    src = self.dropout((self.tok_embedding(src)*self.scale)+self.pos_embedding(pos))\n",
        "    #src = [batch_size,src_len,hid_dim]\n",
        "\n",
        "    # Different parameters are used in each layer\n",
        "    for layer in self.layers:\n",
        "      src=layer(src,src_mask)\n",
        "    #src=[batch_size,src_len,hid_dim]\n",
        "\n",
        "    return src"
      ],
      "execution_count": 18,
      "outputs": []
    },
    {
      "cell_type": "code",
      "metadata": {
        "id": "aGylkVzq8Pbn"
      },
      "source": [
        "class EncoderLayer(nn.Module):\n",
        "  def __init__(self,\n",
        "               hid_dim,\n",
        "               n_heads,\n",
        "               pf_dim,\n",
        "               dropout,\n",
        "               device):\n",
        "    \n",
        "    super().__init__() #To reuse base state. Refer this : https://www.youtube.com/watch?v=tX_v8dgb_7I\n",
        "\n",
        "    self.self_attn_layer_norm = nn.LayerNorm(hid_dim) # normalizes the values of the features, i.e. across the hidden dimension, so each feature has a mean of 0 and a standard deviation of 1. This allows neural networks with a larger number of layers, like the Transformer, to be trained easier.\n",
        "    self.ff_layer_norm = nn.LayerNorm(hid_dim)\n",
        "    self.self_attention = MultiHeadAttentionLayer(hid_dim,n_heads,dropout,device)\n",
        "    self.positionwise_feedforward=PositionwiseFeedforwardLayer(hid_dim,pf_dim,dropout)\n",
        "    self.dropout=nn.Dropout(dropout)\n",
        "\n",
        "  def forward(self,src,src_mask):\n",
        "\n",
        "    #src = [batch_size,src_len,hid_dim]\n",
        "    #src_mask = [batch_size,1,1,src_len]   ....It is then unsqueezed so it can be correctly broadcast when applying the mask to the energy\n",
        "\n",
        "    #self_attention\n",
        "    _src,_ = self.self_attention(src,src,src,src_mask)\n",
        "\n",
        "    #dropout is applied on output from self_attention i.e. _src and then src is added followed by layer normalization\n",
        "    src = self.self_attn_layer_norm(src + self.dropout(_src))\n",
        "    #src =[batch_size, src_len, hid_dim]\n",
        "\n",
        "    #positionwise feedforward\n",
        "    _src = self.positionwise_feedforward(src)\n",
        "\n",
        "    src = self.ff_layer_norm(src + self.dropout(_src))\n",
        "\n",
        "    #src = [batch_size,src_len,hid_dim]\n",
        "\n",
        "    return src"
      ],
      "execution_count": 19,
      "outputs": []
    },
    {
      "cell_type": "markdown",
      "metadata": {
        "id": "97zZPPtFtgTz"
      },
      "source": [
        "## MultiHeadAttention & FeedForward Layer"
      ]
    },
    {
      "cell_type": "code",
      "metadata": {
        "id": "4nfdXon98PXf"
      },
      "source": [
        "class MultiHeadAttentionLayer(nn.Module):\n",
        "  def __init__(self,hid_dim,n_heads,dropout,device):\n",
        "\n",
        "    super().__init__()\n",
        "    #print(hid_dim,n_heads,hid_dim % n_heads)\n",
        "    assert hid_dim % n_heads == 0\n",
        "    self.hid_dim = hid_dim\n",
        "    self.n_heads = n_heads\n",
        "    self.head_dim = hid_dim // n_heads\n",
        "\n",
        "    self.fc_q = nn.Linear(hid_dim,hid_dim)\n",
        "    self.fc_k = nn.Linear(hid_dim,hid_dim)\n",
        "    self.fc_v = nn.Linear(hid_dim,hid_dim)\n",
        "    self.fc_o = nn.Linear(hid_dim,hid_dim)\n",
        "\n",
        "    self.dropout = nn.Dropout(dropout)\n",
        "    self.scale=torch.sqrt(torch.FloatTensor([self.head_dim])).to(device)\n",
        "\n",
        "  def forward(self,query,key,value,mask=None): #query=key=value=src\n",
        "\n",
        "    #query = [batch_size, query_len, hid_dim]\n",
        "    #query = [batch_size, key_len, hid_dim]\n",
        "    #query = [batch_size, value_len, hid_dim]\n",
        "    #query_len = key_len = value_len\n",
        "\n",
        "    batch_size = query.shape[0]\n",
        "\n",
        "    Q = self.fc_q(query)\n",
        "    K = self.fc_k(key)\n",
        "    V = self.fc_v(value)\n",
        "    #Q = [batch size, query len, hid dim]\n",
        "    #K = [batch size, key len, hid dim]\n",
        "    #V = [batch size, value len, hid dim] \n",
        "\n",
        "    Q = Q.view(batch_size,-1,self.n_heads,self.head_dim).permute(0,2,1,3)\n",
        "    K = K.view(batch_size,-1,self.n_heads,self.head_dim).permute(0,2,1,3)\n",
        "    V = V.view(batch_size,-1,self.n_heads,self.head_dim).permute(0,2,1,3)\n",
        "    #Q = [batch_size, n_heads, query_len, head_dim]\n",
        "    #K = [batch_size, n_heads, key_len, head_dim]\n",
        "    #V = [batch_size, n_heads, value_len, head_dim]\n",
        "\n",
        "    energy = torch.matmul(Q,K.permute(0,1,3,2))/self.scale\n",
        "    #energy = [batch_size, n_heads, query_len,key_len]\n",
        "\n",
        "    if mask is not None:\n",
        "      energy = energy.masked_fill(mask==0,-1e10) #NOTE: mask is boolean matrix though for False,True values in mask 0,1 are used in masked_fill\n",
        "\n",
        "    attention = torch.softmax(energy, dim=-1)\n",
        "    #attention= [batch_size, n_heads, query_len,key_len]\n",
        "\n",
        "    x = torch.matmul(self.dropout(attention),V)\n",
        "    #x= [batch_size, n_heads, query_len,head_dim]\n",
        "\n",
        "    x=x.permute(0,2,1,3).contiguous()\n",
        "    #x=[batch_size,query_len,n_heads,head_dim]\n",
        "\n",
        "    #before applying view,contiguous is applied\n",
        "    x=x.view(batch_size,-1,self.hid_dim)\n",
        "    #x = [batch size, query len, hid dim]\n",
        "\n",
        "    x=self.fc_o(x)\n",
        "    #x = [batch size, query len, hid dim]\n",
        "\n",
        "    return x,attention"
      ],
      "execution_count": 20,
      "outputs": []
    },
    {
      "cell_type": "code",
      "metadata": {
        "id": "ogj7u2t28PRk"
      },
      "source": [
        "class PositionwiseFeedforwardLayer(nn.Module):\n",
        "  def __init__(self,hid_dim,pf_dim,dropout):\n",
        "    super().__init__()\n",
        "    self.fc_1 = nn.Linear(hid_dim,pf_dim)\n",
        "    self.fc_2 = nn.Linear(pf_dim,hid_dim)\n",
        "    self.dropout=nn.Dropout(dropout)\n",
        "\n",
        "  def forward(self,x):\n",
        "    #x = [batch size, seq len, hid dim]\n",
        "        \n",
        "    x = self.dropout(torch.relu(self.fc_1(x)))\n",
        "    #x = [batch size, seq len, pf_dim]\n",
        "\n",
        "    x=self.fc_2(x)\n",
        "    #x = [batch size, seq len, hid dim]\n",
        "\n",
        "    return x"
      ],
      "execution_count": 21,
      "outputs": []
    },
    {
      "cell_type": "markdown",
      "metadata": {
        "id": "0ojkXSBZt3k9"
      },
      "source": [
        "## Decoder"
      ]
    },
    {
      "cell_type": "code",
      "metadata": {
        "id": "stTtG_Dh8PO1"
      },
      "source": [
        "class Decoder(nn.Module):\n",
        "  def __init__(self,\n",
        "               output_dim,\n",
        "               hid_dim,\n",
        "               n_layers,\n",
        "               n_heads,\n",
        "               pf_dim,\n",
        "               dropout,\n",
        "               device,\n",
        "               max_length=100): #here also for max 100 words pos embeddings are taken\n",
        "    super().__init__()\n",
        "    self.device=device\n",
        "    self.tok_embedding=nn.Embedding(output_dim,hid_dim)\n",
        "    self.pos_embedding = nn.Embedding(max_length,hid_dim)\n",
        "    self.layers = nn.ModuleList([DecoderLayer(hid_dim,\n",
        "                                              n_heads,\n",
        "                                              pf_dim,\n",
        "                                              dropout,\n",
        "                                              device)\n",
        "                                for _ in range(n_layers)])\n",
        "    \n",
        "    self.fc_out = nn.Linear(hid_dim,output_dim)\n",
        "    self.dropout = nn.Dropout(dropout)\n",
        "    self.scale = torch.sqrt(torch.FloatTensor([hid_dim])).to(device)\n",
        "\n",
        "  def forward(self, trg, enc_src, trg_mask, src_mask):\n",
        "\n",
        "    #trg = [batch_size,trg_len]\n",
        "    #enc_src = [batch_size,src_len,hid_dim]\n",
        "    #trg_mask = [batch_size,1,trg_len,trg_len]\n",
        "    #src_mask = [batch_size,1,1,src_len]\n",
        "\n",
        "    batch_size=trg.shape[0]\n",
        "    trg_len=trg.shape[1]\n",
        "\n",
        "    pos=torch.arange(0,trg_len).unsqueeze(0).repeat(batch_size,1).to(self.device)\n",
        "    #pos =[batch_size,trg_len]\n",
        "\n",
        "    trg = self.dropout((self.tok_embedding(trg)*self.scale)+self.pos_embedding(pos))\n",
        "    #trg = [batch size, trg len, hid dim]\n",
        "\n",
        "    for layer in self.layers:\n",
        "      trg,attention=layer(trg,enc_src,trg_mask,src_mask)\n",
        "      #trg=[batch_size,trg_len,hid_dim]\n",
        "      #attention=[batch_size,n_heads,trg_len,src_len]\n",
        "\n",
        "    output=self.fc_out(trg)\n",
        "\n",
        "    return output,attention"
      ],
      "execution_count": 22,
      "outputs": []
    },
    {
      "cell_type": "code",
      "metadata": {
        "id": "s0khoJ-t8PL1"
      },
      "source": [
        "class DecoderLayer(nn.Module):\n",
        "  def __init__(self,\n",
        "              hid_dim,\n",
        "              n_heads,\n",
        "              pf_dim,\n",
        "              dropout,\n",
        "              device):\n",
        "    super().__init__()\n",
        "    self.self_attn_layer_norm = nn.LayerNorm(hid_dim)\n",
        "    self.enc_attn_layer_norm  = nn.LayerNorm(hid_dim)\n",
        "    self.ff_layer_norm = nn.LayerNorm(hid_dim)\n",
        "    self.self_attention = MultiHeadAttentionLayer(hid_dim,n_heads,dropout,device)\n",
        "    self.encoder_attention = MultiHeadAttentionLayer(hid_dim,n_heads,dropout,device)\n",
        "    self.positionwise_feedforward =PositionwiseFeedforwardLayer(hid_dim,pf_dim,dropout)\n",
        "    self.dropout=nn.Dropout(dropout)\n",
        "\n",
        "  def forward(self,trg, enc_src, trg_mask,src_mask):\n",
        "\n",
        "    #trg=[batch size, trg len, hid dim]\n",
        "    #enc_src=[batch_size,src_len,hid_dim]\n",
        "    #trg_mask = [batch_size,1,trg_len,trg_len]\n",
        "    #src_mask = [batch_size,1,1,src_len]\n",
        "\n",
        "    #self_attention\n",
        "    _trg,_ = self.self_attention(trg,trg,trg,trg_mask)\n",
        "\n",
        "    trg = self.self_attn_layer_norm(trg+self.dropout(_trg))\n",
        "    #trg =[batch_size,trg_len,hid_dim]\n",
        "\n",
        "    #encoder_attention\n",
        "    _trg,attention = self.encoder_attention(trg,enc_src,enc_src,src_mask) #attention op from last MultiHeadAttention of decoder\n",
        "\n",
        "    trg=self.enc_attn_layer_norm(trg+self.dropout(_trg))\n",
        "    #trg = [batch_size,trg_len,hid_dim]\n",
        "\n",
        "    #positionwise feedforward\n",
        "\n",
        "    _trg = self.positionwise_feedforward(trg)\n",
        "\n",
        "    trg=self.ff_layer_norm(trg + self.dropout(_trg))\n",
        "    #trg = [batch size, trg len, hid dim]\n",
        "    #attention = [batch size, n heads, trg len, src len]\n",
        "    return trg,attention #attention is returned as we can plot it later to observe how may attention is paid by ip to op sentences\n"
      ],
      "execution_count": 23,
      "outputs": []
    },
    {
      "cell_type": "markdown",
      "metadata": {
        "id": "ZrhwnlaZt-Fl"
      },
      "source": [
        "## Building Model"
      ]
    },
    {
      "cell_type": "code",
      "metadata": {
        "id": "TvJNjZ8Y9dV5"
      },
      "source": [
        "class Seq2Seq(nn.Module):\n",
        "  def __init__(self,\n",
        "               encoder,\n",
        "               decoder,\n",
        "               src_pad_idx,\n",
        "               trg_pad_idx,\n",
        "               device):\n",
        "    super().__init__()\n",
        "\n",
        "    self.encoder=encoder\n",
        "    self.decoder = decoder\n",
        "    self.src_pad_idx = src_pad_idx\n",
        "    self.trg_pad_idx = trg_pad_idx\n",
        "    self.device = device\n",
        "\n",
        "  def make_src_mask(self,src):\n",
        "    #src=[batch_size,src_len]\n",
        "    src_mask=(src!=self.src_pad_idx).unsqueeze(1).unsqueeze(2)\n",
        "\n",
        "    #src_mask=[batch_size,1,1,src_len]\n",
        "\n",
        "    return src_mask\n",
        "\n",
        "  def make_trg_mask(self,trg):\n",
        "    #trg=[batch_size,trg_len]\n",
        "\n",
        "    trg_pad_mask=(trg!=self.trg_pad_idx).unsqueeze(1).unsqueeze(2)\n",
        "    #trg_pad_mask=[batch_size,1,1,trg_len]\n",
        "\n",
        "    trg_len=trg.shape[1]\n",
        "    trg_sub_mask=torch.tril(torch.ones((trg_len,trg_len),device=self.device)).bool()\n",
        "\n",
        "    #trg_sub_mask=[trg_len,trg_len]\n",
        "\n",
        "    trg_mask= trg_pad_mask & trg_sub_mask\n",
        "    #trg_mask =[batch_size,1,trg_len,trg_len]\n",
        "\n",
        "    return trg_mask\n",
        "\n",
        "  def forward(self,src,trg):\n",
        "\n",
        "    #src=[batch_size,src_len]\n",
        "    #trg=[batch_size,trg_len]\n",
        "\n",
        "    src_mask=self.make_src_mask(src)\n",
        "    trg_mask=self.make_trg_mask(trg)\n",
        "\n",
        "    #src_mask = [batch size, 1, 1, src len]\n",
        "    #trg_mask = [batch size, 1, trg len, trg len]\n",
        "\n",
        "    enc_src=self.encoder(src,src_mask)\n",
        "    #enc_src=[batch_size,src_len,hid_dim]\n",
        "\n",
        "    output,attention=self.decoder(trg, enc_src, trg_mask, src_mask)\n",
        "\n",
        "    #output=[batch_size,trg_len,output_dim]\n",
        "    #attention=[batch_size,n_heads,trg_len,src_len]\n",
        "\n",
        "    return output, attention"
      ],
      "execution_count": 24,
      "outputs": []
    },
    {
      "cell_type": "code",
      "metadata": {
        "id": "2_tC4wmu9dTJ"
      },
      "source": [
        "INPUT_DIM=len(SRC.vocab)\n",
        "OUTPUT_DIM = len(TRG.vocab)\n",
        "HID_DIM=256\n",
        "ENC_LAYERS=3\n",
        "DEC_LAYERS=3\n",
        "ENC_HEADS=8\n",
        "DEC_HEADS=8\n",
        "ENC_PF_DIM=512\n",
        "DEC_PF_DIM=512\n",
        "ENC_DROPOUT=0.1\n",
        "DEC_DROPOUT=0.1\n",
        "\n",
        "enc=Encoder(INPUT_DIM,\n",
        "            HID_DIM,\n",
        "            ENC_LAYERS,\n",
        "            ENC_HEADS,\n",
        "            ENC_PF_DIM,\n",
        "            ENC_DROPOUT,\n",
        "            device)\n",
        "\n",
        "dec=Decoder(OUTPUT_DIM,\n",
        "            HID_DIM,\n",
        "            DEC_LAYERS,\n",
        "            DEC_HEADS,\n",
        "            DEC_PF_DIM,\n",
        "            DEC_DROPOUT,\n",
        "            device)"
      ],
      "execution_count": 25,
      "outputs": []
    },
    {
      "cell_type": "code",
      "metadata": {
        "id": "JhGM1elq9dQh"
      },
      "source": [
        "SRC_PAD_IDX = SRC.vocab.stoi[SRC.pad_token]\n",
        "TRG_PAD_IDX = TRG.vocab.stoi[TRG.pad_token]\n",
        "\n",
        "model = Seq2Seq(enc, dec, SRC_PAD_IDX, TRG_PAD_IDX, device).to(device)"
      ],
      "execution_count": 26,
      "outputs": []
    },
    {
      "cell_type": "code",
      "metadata": {
        "colab": {
          "base_uri": "https://localhost:8080/"
        },
        "id": "2-XPF7SH9j4j",
        "outputId": "8eb876c4-11ba-4953-9101-4a17f1b03375"
      },
      "source": [
        "def count_parameters(model):\n",
        "  return sum(p.numel() for p in model.parameters() if p.requires_grad)\n",
        "\n",
        "print(f'The model has {count_parameters(model):,} trainable parameters')"
      ],
      "execution_count": 27,
      "outputs": [
        {
          "output_type": "stream",
          "text": [
            "The model has 9,039,366 trainable parameters\n"
          ],
          "name": "stdout"
        }
      ]
    },
    {
      "cell_type": "code",
      "metadata": {
        "id": "lIIVKsCG-uac"
      },
      "source": [
        "def initialize_weights(m):\n",
        "    if hasattr(m, 'weight') and m.weight.dim() > 1:  # hasaatr: to check if an object has the given named attribute and return true if present, else false.\n",
        "        nn.init.xavier_uniform_(m.weight.data)"
      ],
      "execution_count": 28,
      "outputs": []
    },
    {
      "cell_type": "code",
      "metadata": {
        "colab": {
          "base_uri": "https://localhost:8080/"
        },
        "id": "Km3g0381-v73",
        "outputId": "fa137635-8a8d-47c7-ef4a-315c559944f4"
      },
      "source": [
        "model.apply(initialize_weights)"
      ],
      "execution_count": 29,
      "outputs": [
        {
          "output_type": "execute_result",
          "data": {
            "text/plain": [
              "Seq2Seq(\n",
              "  (encoder): Encoder(\n",
              "    (tok_embedding): Embedding(7855, 256)\n",
              "    (pos_embedding): Embedding(100, 256)\n",
              "    (layers): ModuleList(\n",
              "      (0): EncoderLayer(\n",
              "        (self_attn_layer_norm): LayerNorm((256,), eps=1e-05, elementwise_affine=True)\n",
              "        (ff_layer_norm): LayerNorm((256,), eps=1e-05, elementwise_affine=True)\n",
              "        (self_attention): MultiHeadAttentionLayer(\n",
              "          (fc_q): Linear(in_features=256, out_features=256, bias=True)\n",
              "          (fc_k): Linear(in_features=256, out_features=256, bias=True)\n",
              "          (fc_v): Linear(in_features=256, out_features=256, bias=True)\n",
              "          (fc_o): Linear(in_features=256, out_features=256, bias=True)\n",
              "          (dropout): Dropout(p=0.1, inplace=False)\n",
              "        )\n",
              "        (positionwise_feedforward): PositionwiseFeedforwardLayer(\n",
              "          (fc_1): Linear(in_features=256, out_features=512, bias=True)\n",
              "          (fc_2): Linear(in_features=512, out_features=256, bias=True)\n",
              "          (dropout): Dropout(p=0.1, inplace=False)\n",
              "        )\n",
              "        (dropout): Dropout(p=0.1, inplace=False)\n",
              "      )\n",
              "      (1): EncoderLayer(\n",
              "        (self_attn_layer_norm): LayerNorm((256,), eps=1e-05, elementwise_affine=True)\n",
              "        (ff_layer_norm): LayerNorm((256,), eps=1e-05, elementwise_affine=True)\n",
              "        (self_attention): MultiHeadAttentionLayer(\n",
              "          (fc_q): Linear(in_features=256, out_features=256, bias=True)\n",
              "          (fc_k): Linear(in_features=256, out_features=256, bias=True)\n",
              "          (fc_v): Linear(in_features=256, out_features=256, bias=True)\n",
              "          (fc_o): Linear(in_features=256, out_features=256, bias=True)\n",
              "          (dropout): Dropout(p=0.1, inplace=False)\n",
              "        )\n",
              "        (positionwise_feedforward): PositionwiseFeedforwardLayer(\n",
              "          (fc_1): Linear(in_features=256, out_features=512, bias=True)\n",
              "          (fc_2): Linear(in_features=512, out_features=256, bias=True)\n",
              "          (dropout): Dropout(p=0.1, inplace=False)\n",
              "        )\n",
              "        (dropout): Dropout(p=0.1, inplace=False)\n",
              "      )\n",
              "      (2): EncoderLayer(\n",
              "        (self_attn_layer_norm): LayerNorm((256,), eps=1e-05, elementwise_affine=True)\n",
              "        (ff_layer_norm): LayerNorm((256,), eps=1e-05, elementwise_affine=True)\n",
              "        (self_attention): MultiHeadAttentionLayer(\n",
              "          (fc_q): Linear(in_features=256, out_features=256, bias=True)\n",
              "          (fc_k): Linear(in_features=256, out_features=256, bias=True)\n",
              "          (fc_v): Linear(in_features=256, out_features=256, bias=True)\n",
              "          (fc_o): Linear(in_features=256, out_features=256, bias=True)\n",
              "          (dropout): Dropout(p=0.1, inplace=False)\n",
              "        )\n",
              "        (positionwise_feedforward): PositionwiseFeedforwardLayer(\n",
              "          (fc_1): Linear(in_features=256, out_features=512, bias=True)\n",
              "          (fc_2): Linear(in_features=512, out_features=256, bias=True)\n",
              "          (dropout): Dropout(p=0.1, inplace=False)\n",
              "        )\n",
              "        (dropout): Dropout(p=0.1, inplace=False)\n",
              "      )\n",
              "    )\n",
              "    (dropout): Dropout(p=0.1, inplace=False)\n",
              "  )\n",
              "  (decoder): Decoder(\n",
              "    (tok_embedding): Embedding(5894, 256)\n",
              "    (pos_embedding): Embedding(100, 256)\n",
              "    (layers): ModuleList(\n",
              "      (0): DecoderLayer(\n",
              "        (self_attn_layer_norm): LayerNorm((256,), eps=1e-05, elementwise_affine=True)\n",
              "        (enc_attn_layer_norm): LayerNorm((256,), eps=1e-05, elementwise_affine=True)\n",
              "        (ff_layer_norm): LayerNorm((256,), eps=1e-05, elementwise_affine=True)\n",
              "        (self_attention): MultiHeadAttentionLayer(\n",
              "          (fc_q): Linear(in_features=256, out_features=256, bias=True)\n",
              "          (fc_k): Linear(in_features=256, out_features=256, bias=True)\n",
              "          (fc_v): Linear(in_features=256, out_features=256, bias=True)\n",
              "          (fc_o): Linear(in_features=256, out_features=256, bias=True)\n",
              "          (dropout): Dropout(p=0.1, inplace=False)\n",
              "        )\n",
              "        (encoder_attention): MultiHeadAttentionLayer(\n",
              "          (fc_q): Linear(in_features=256, out_features=256, bias=True)\n",
              "          (fc_k): Linear(in_features=256, out_features=256, bias=True)\n",
              "          (fc_v): Linear(in_features=256, out_features=256, bias=True)\n",
              "          (fc_o): Linear(in_features=256, out_features=256, bias=True)\n",
              "          (dropout): Dropout(p=0.1, inplace=False)\n",
              "        )\n",
              "        (positionwise_feedforward): PositionwiseFeedforwardLayer(\n",
              "          (fc_1): Linear(in_features=256, out_features=512, bias=True)\n",
              "          (fc_2): Linear(in_features=512, out_features=256, bias=True)\n",
              "          (dropout): Dropout(p=0.1, inplace=False)\n",
              "        )\n",
              "        (dropout): Dropout(p=0.1, inplace=False)\n",
              "      )\n",
              "      (1): DecoderLayer(\n",
              "        (self_attn_layer_norm): LayerNorm((256,), eps=1e-05, elementwise_affine=True)\n",
              "        (enc_attn_layer_norm): LayerNorm((256,), eps=1e-05, elementwise_affine=True)\n",
              "        (ff_layer_norm): LayerNorm((256,), eps=1e-05, elementwise_affine=True)\n",
              "        (self_attention): MultiHeadAttentionLayer(\n",
              "          (fc_q): Linear(in_features=256, out_features=256, bias=True)\n",
              "          (fc_k): Linear(in_features=256, out_features=256, bias=True)\n",
              "          (fc_v): Linear(in_features=256, out_features=256, bias=True)\n",
              "          (fc_o): Linear(in_features=256, out_features=256, bias=True)\n",
              "          (dropout): Dropout(p=0.1, inplace=False)\n",
              "        )\n",
              "        (encoder_attention): MultiHeadAttentionLayer(\n",
              "          (fc_q): Linear(in_features=256, out_features=256, bias=True)\n",
              "          (fc_k): Linear(in_features=256, out_features=256, bias=True)\n",
              "          (fc_v): Linear(in_features=256, out_features=256, bias=True)\n",
              "          (fc_o): Linear(in_features=256, out_features=256, bias=True)\n",
              "          (dropout): Dropout(p=0.1, inplace=False)\n",
              "        )\n",
              "        (positionwise_feedforward): PositionwiseFeedforwardLayer(\n",
              "          (fc_1): Linear(in_features=256, out_features=512, bias=True)\n",
              "          (fc_2): Linear(in_features=512, out_features=256, bias=True)\n",
              "          (dropout): Dropout(p=0.1, inplace=False)\n",
              "        )\n",
              "        (dropout): Dropout(p=0.1, inplace=False)\n",
              "      )\n",
              "      (2): DecoderLayer(\n",
              "        (self_attn_layer_norm): LayerNorm((256,), eps=1e-05, elementwise_affine=True)\n",
              "        (enc_attn_layer_norm): LayerNorm((256,), eps=1e-05, elementwise_affine=True)\n",
              "        (ff_layer_norm): LayerNorm((256,), eps=1e-05, elementwise_affine=True)\n",
              "        (self_attention): MultiHeadAttentionLayer(\n",
              "          (fc_q): Linear(in_features=256, out_features=256, bias=True)\n",
              "          (fc_k): Linear(in_features=256, out_features=256, bias=True)\n",
              "          (fc_v): Linear(in_features=256, out_features=256, bias=True)\n",
              "          (fc_o): Linear(in_features=256, out_features=256, bias=True)\n",
              "          (dropout): Dropout(p=0.1, inplace=False)\n",
              "        )\n",
              "        (encoder_attention): MultiHeadAttentionLayer(\n",
              "          (fc_q): Linear(in_features=256, out_features=256, bias=True)\n",
              "          (fc_k): Linear(in_features=256, out_features=256, bias=True)\n",
              "          (fc_v): Linear(in_features=256, out_features=256, bias=True)\n",
              "          (fc_o): Linear(in_features=256, out_features=256, bias=True)\n",
              "          (dropout): Dropout(p=0.1, inplace=False)\n",
              "        )\n",
              "        (positionwise_feedforward): PositionwiseFeedforwardLayer(\n",
              "          (fc_1): Linear(in_features=256, out_features=512, bias=True)\n",
              "          (fc_2): Linear(in_features=512, out_features=256, bias=True)\n",
              "          (dropout): Dropout(p=0.1, inplace=False)\n",
              "        )\n",
              "        (dropout): Dropout(p=0.1, inplace=False)\n",
              "      )\n",
              "    )\n",
              "    (fc_out): Linear(in_features=256, out_features=5894, bias=True)\n",
              "    (dropout): Dropout(p=0.1, inplace=False)\n",
              "  )\n",
              ")"
            ]
          },
          "metadata": {
            "tags": []
          },
          "execution_count": 29
        }
      ]
    },
    {
      "cell_type": "code",
      "metadata": {
        "id": "4HhL5tgJ-v5D"
      },
      "source": [
        "LEARNING_RATE = 0.0005\n",
        "\n",
        "optimizer = torch.optim.Adam(model.parameters(), lr = LEARNING_RATE)"
      ],
      "execution_count": 30,
      "outputs": []
    },
    {
      "cell_type": "code",
      "metadata": {
        "id": "f_Wipfra-v2p"
      },
      "source": [
        "criterion = nn.CrossEntropyLoss(ignore_index = TRG_PAD_IDX) #as while caculating loss only trg_pad_idx is considered"
      ],
      "execution_count": 31,
      "outputs": []
    },
    {
      "cell_type": "code",
      "metadata": {
        "id": "5JXC3taF-vzx"
      },
      "source": [
        "def train(model,iterator,optimizer,criterion,clip):\n",
        "  model.train()\n",
        "  epoch_loss=0\n",
        "\n",
        "  for i,batch in enumerate(iterator):\n",
        "    # print(batch)\n",
        "    src=batch.german\n",
        "    trg=batch.english\n",
        "    optimizer.zero_grad()\n",
        "    output,_=model(src,trg[:,:-1])\n",
        "    #output=[batch_size,trg_len-1,output_dim]\n",
        "    #trg=[batch_size,trg_len]\n",
        "    output_dim=output.shape[-1]\n",
        "    output=output.contiguous().view(-1,output_dim)  #since nn.crossentropyloss expects output size=(N,C) and label size=(C) \n",
        "    trg=trg[:,1:].contiguous().view(-1)\n",
        "    #output=[batch size * trg len - 1, output dim]\n",
        "    #trg=[batch size * trg len - 1]\n",
        "    loss=criterion(output,trg)\n",
        "    loss.backward()\n",
        "    torch.nn.utils.clip_grad_norm(model.parameters(),clip)\n",
        "    optimizer.step()\n",
        "    epoch_loss += loss.item()\n",
        "    \n",
        "  return epoch_loss/len(iterator)\n"
      ],
      "execution_count": 32,
      "outputs": []
    },
    {
      "cell_type": "code",
      "metadata": {
        "id": "DWnHnWia-vxQ"
      },
      "source": [
        "def evaluate(model, iterator, criterion):\n",
        "  model.eval()\n",
        "  epoch_loss = 0\n",
        "  with torch.no_grad():\n",
        "    for i,batch in enumerate (iterator):\n",
        "      src=batch.german\n",
        "      trg=batch.english\n",
        "      output, _ = model(src,trg[:,:-1])\n",
        "      #output = [batch_size,trg_len-1,output dim]\n",
        "      #trg = [batch_size, trg_len]\n",
        "\n",
        "      output_dim =output.shape[-1]\n",
        "      output=output.contiguous().view(-1,output_dim)\n",
        "      trg =trg[:,1:].contiguous().view(-1)\n",
        "      #output = [batch_size*trg len - 1, output dim]\n",
        "      #trg = [batch_size*trg_len-1]\n",
        "      loss=criterion(output,trg)\n",
        "      epoch_loss+=loss.item()\n",
        "  return epoch_loss/len(iterator)"
      ],
      "execution_count": 33,
      "outputs": []
    },
    {
      "cell_type": "code",
      "metadata": {
        "id": "d6liFDjS-vup"
      },
      "source": [
        "def epoch_time(start_time, end_time):\n",
        "    elapsed_time = end_time - start_time\n",
        "    elapsed_mins = int(elapsed_time / 60)\n",
        "    elapsed_secs = int(elapsed_time - (elapsed_mins * 60))\n",
        "    return elapsed_mins, elapsed_secs"
      ],
      "execution_count": 34,
      "outputs": []
    },
    {
      "cell_type": "code",
      "metadata": {
        "colab": {
          "base_uri": "https://localhost:8080/"
        },
        "id": "nzxHe2ZS-vrc",
        "outputId": "dd3f44f7-7b5a-42ea-fec7-791dc9996413"
      },
      "source": [
        "N_EPOCHS=10\n",
        "CLIP=1\n",
        "best_valid_loss = float('inf')\n",
        "\n",
        "for epoch in range(N_EPOCHS):\n",
        "  start_time = time.time()\n",
        "  train_loss = train(model,train_iterator,optimizer,criterion,CLIP)\n",
        "  valid_loss = evaluate(model,valid_iterator,criterion)\n",
        "\n",
        "  end_time = time.time()\n",
        "  epoch_mins,epoch_secs=epoch_time(start_time,end_time)\n",
        "\n",
        "  if valid_loss < best_valid_loss:\n",
        "    best_valid_loss = valid_loss\n",
        "    torch.save(model.state_dict(),'/content/drive/MyDrive/Projects/NLP/data/sequence to sequence /German_to_English Basic TransformerModel/multi30k without using custom dataloader/checkpoints/model.pt')\n",
        "\n",
        "  print(f'Epoch: {epoch+1:02} | Time: {epoch_mins}m {epoch_secs}s')\n",
        "  print(f'\\tTrainLoss: {train_loss:.3f} | Train PPL: {math.exp(train_loss):7.3f}')\n",
        "  print(f'\\t Val. Loss: {valid_loss:.3f} |  Val. PPL: {math.exp(valid_loss):7.3f}')"
      ],
      "execution_count": 35,
      "outputs": [
        {
          "output_type": "stream",
          "text": [
            "/usr/local/lib/python3.6/dist-packages/ipykernel_launcher.py:20: UserWarning: torch.nn.utils.clip_grad_norm is now deprecated in favor of torch.nn.utils.clip_grad_norm_.\n"
          ],
          "name": "stderr"
        },
        {
          "output_type": "stream",
          "text": [
            "Epoch: 01 | Time: 0m 20s\n",
            "\tTrainLoss: 4.232 | Train PPL:  68.868\n",
            "\t Val. Loss: 3.068 |  Val. PPL:  21.494\n",
            "Epoch: 02 | Time: 0m 20s\n",
            "\tTrainLoss: 2.808 | Train PPL:  16.570\n",
            "\t Val. Loss: 2.358 |  Val. PPL:  10.565\n",
            "Epoch: 03 | Time: 0m 21s\n",
            "\tTrainLoss: 2.231 | Train PPL:   9.305\n",
            "\t Val. Loss: 2.023 |  Val. PPL:   7.563\n",
            "Epoch: 04 | Time: 0m 21s\n",
            "\tTrainLoss: 1.879 | Train PPL:   6.550\n",
            "\t Val. Loss: 1.862 |  Val. PPL:   6.434\n",
            "Epoch: 05 | Time: 0m 20s\n",
            "\tTrainLoss: 1.634 | Train PPL:   5.123\n",
            "\t Val. Loss: 1.776 |  Val. PPL:   5.907\n",
            "Epoch: 06 | Time: 0m 20s\n",
            "\tTrainLoss: 1.446 | Train PPL:   4.246\n",
            "\t Val. Loss: 1.692 |  Val. PPL:   5.429\n",
            "Epoch: 07 | Time: 0m 20s\n",
            "\tTrainLoss: 1.294 | Train PPL:   3.646\n",
            "\t Val. Loss: 1.678 |  Val. PPL:   5.355\n",
            "Epoch: 08 | Time: 0m 20s\n",
            "\tTrainLoss: 1.169 | Train PPL:   3.220\n",
            "\t Val. Loss: 1.668 |  Val. PPL:   5.304\n",
            "Epoch: 09 | Time: 0m 20s\n",
            "\tTrainLoss: 1.058 | Train PPL:   2.880\n",
            "\t Val. Loss: 1.676 |  Val. PPL:   5.344\n",
            "Epoch: 10 | Time: 0m 20s\n",
            "\tTrainLoss: 0.961 | Train PPL:   2.614\n",
            "\t Val. Loss: 1.702 |  Val. PPL:   5.483\n"
          ],
          "name": "stdout"
        }
      ]
    },
    {
      "cell_type": "code",
      "metadata": {
        "id": "MEFbYTHv-vl_",
        "colab": {
          "base_uri": "https://localhost:8080/"
        },
        "outputId": "4a5c7423-8fa2-4d7d-de27-c4777f54a0fb"
      },
      "source": [
        "model.load_state_dict(torch.load('/content/drive/MyDrive/Projects/NLP/data/sequence to sequence /German_to_English Basic TransformerModel/multi30k without using custom dataloader/checkpoints/model.pt'))\n",
        "test_loss = evaluate(model, test_iterator, criterion)\n",
        "print(f'| Test Loss: {test_loss:.3f} | Test PPL: {math.exp(test_loss):7.3f} |')"
      ],
      "execution_count": 38,
      "outputs": [
        {
          "output_type": "stream",
          "text": [
            "| Test Loss: 1.711 | Test PPL:   5.534 |\n"
          ],
          "name": "stdout"
        }
      ]
    },
    {
      "cell_type": "code",
      "metadata": {
        "id": "7QdkyyuQ-vjr"
      },
      "source": [
        "def translate_sentence(sentence,src_field,trg_field,model,device,max_length=50):\n",
        "  model.eval()\n",
        "  if isinstance (sentence,str):\n",
        "    tokenize_de=spacy.load('de')\n",
        "    tokens=[token.text for token in tokenize_de(setence)]\n",
        "  else:\n",
        "    tokens=[token.lower() for token in sentence]\n",
        "\n",
        "  #adding sos and eos token to tokens\n",
        "  tokens=[src_field.init_token]+tokens+[src_field.eos_token]\n",
        "\n",
        "  #converting tokens(strings) to indexes \n",
        "  src_indexes=[src_field.vocab.stoi[token] for token in tokens]\n",
        "  #Convert to tensor and unsqueeze first dim so batch size=1 \n",
        "  src_tensor=torch.LongTensor(src_indexes).unsqueeze(0).to(device)\n",
        "  src_mask=model.make_src_mask(src_tensor)\n",
        "\n",
        "  with torch.no_grad():\n",
        "    enc_src=model.encoder(src_tensor,src_mask)\n",
        "\n",
        "  trg_indexes=[trg_field.vocab.stoi[trg_field.init_token]]\n",
        "\n",
        "  for i in range(max_length):\n",
        "    #convert trg_indexes to tensor\n",
        "    trg_tensor=torch.LongTensor(trg_indexes).unsqueeze(0).to(device)\n",
        "    trg_mask=model.make_trg_mask(trg_tensor)\n",
        "    with torch.no_grad():\n",
        "      # so bascically what happens in decoder part in evaluation, no pad token is fed as input so trg_pad_mask =True always only trg_sub_mask changes with each word in sentence (for evaluation we considered one batch only)\n",
        "      output,attention=model.decoder(trg_tensor,enc_src,trg_mask,src_mask)\n",
        "      pred_token=output.argmax(2)[:,-1].item()\n",
        "      trg_indexes.append(pred_token)\n",
        "\n",
        "      if pred_token==trg_field.vocab.stoi[trg_field.eos_token]:\n",
        "        break\n",
        "\n",
        "  trg_tokens=[trg_field.vocab.itos[i] for i in trg_indexes]\n",
        "\n",
        "  return trg_tokens[1:],attention"
      ],
      "execution_count": 49,
      "outputs": []
    },
    {
      "cell_type": "markdown",
      "metadata": {
        "id": "rM0ANdcsPFew"
      },
      "source": [
        "## Plotting Attention:\n",
        "\n",
        "On X axes:- source sentence (german language) including sos +sentence+ eos\n",
        "\n",
        "On Y axes:- target sentence (english language) output of deocder i.e. sentence + eos"
      ]
    },
    {
      "cell_type": "code",
      "metadata": {
        "id": "F1HVfGji-vg_"
      },
      "source": [
        "def display_attention(sentence,translation,attention,n_heads=8,n_rows=4,n_cols=2):\n",
        "  assert n_rows*n_cols == n_heads\n",
        "  fig = plt.figure(figsize=(15,25))\n",
        "  for i in range(n_heads):\n",
        "    ax=fig.add_subplot(n_rows,n_cols,i+1)\n",
        "    _attention=attention.squeeze(0)[i].cpu().detach().numpy() #1. transfer attention to cpu from gpu, 2.detach() is used as grad=False, 3.Attention tensor is converted to numpy for plotting\n",
        "    cax=ax.matshow(_attention,cmap='bone')\n",
        "    ax.tick_params(labelsize=12)\n",
        "    ax.set_xticklabels(['']+['<sos>']+[t.lower() for t in sentence]+['<eos>'],rotation=45)\n",
        "    ax.set_yticklabels(['']+translation) \n",
        "    ax.xaxis.set_major_locator(ticker.MultipleLocator(1))\n",
        "    ax.yaxis.set_major_locator(ticker.MultipleLocator(1))\n",
        "\n",
        "    plt.show()\n",
        "    plt.close()"
      ],
      "execution_count": 50,
      "outputs": []
    },
    {
      "cell_type": "code",
      "metadata": {
        "id": "plp3NwMs-veW",
        "colab": {
          "base_uri": "https://localhost:8080/",
          "height": 449
        },
        "outputId": "e6f54136-893a-4faa-889b-a77ce9a6d7b9"
      },
      "source": [
        "example_idx = 17\n",
        "\n",
        "src=vars(train_data.examples[example_idx])['german']\n",
        "trg=vars(train_data.examples[example_idx])['english']\n",
        "\n",
        "print(f'src = {src}')\n",
        "print(f'trg = {trg}')\n",
        "\n",
        "translation, attention = translate_sentence(src, SRC, TRG, model, device)\n",
        "\n",
        "print(f'predicted trg ={translation}')\n",
        "\n",
        "display_attention(src, translation, attention)"
      ],
      "execution_count": 51,
      "outputs": [
        {
          "output_type": "stream",
          "text": [
            "src = ['ein', 'kleines', 'mädchen', 'sitzt', 'vor', 'einem', 'großen', 'gemalten', 'regenbogen', '.']\n",
            "trg = ['a', 'little', 'girl', 'is', 'sitting', 'in', 'front', 'of', 'a', 'large', 'painted', 'rainbow', '.']\n",
            "predicted trg =['a', 'little', 'girl', 'is', 'sitting', 'in', 'front', 'of', 'a', 'large', 'rainbow', '.', '<eos>']\n"
          ],
          "name": "stdout"
        },
        {
          "output_type": "display_data",
          "data": {
            "image/png": "[encoded data removed]",
            "text/plain": [
              "<Figure size 1080x1800 with 1 Axes>"
            ]
          },
          "metadata": {
            "tags": [],
            "needs_background": "light"
          }
        }
      ]
    },
    {
      "cell_type": "code",
      "metadata": {
        "id": "seKoBxXQ-vbf"
      },
      "source": [
        "from torchtext.data.metrics import bleu_score\n",
        "\n",
        "def calculate_bleu(data,src_field,trg_field,model,device,max_len=50):\n",
        "  trgs=[]\n",
        "  pred_trgs=[]\n",
        "\n",
        "  for datum in data:\n",
        "    src=vars(datum)['german']\n",
        "    trg=vars(datum)['english']\n",
        "\n",
        "    pred_trg,_ = translate_sentence(src,src_field,trg_field,model,device,max_len)\n",
        "\n",
        "    #cutoff <eos> token\n",
        "    pred_trg=pred_trg[:-1]\n",
        "    pred_trgs.append(pred_trg)\n",
        "    trgs.append([trg])\n",
        "\n",
        "  return bleu_score(pred_trgs, trgs)"
      ],
      "execution_count": 64,
      "outputs": []
    },
    {
      "cell_type": "code",
      "metadata": {
        "id": "c1MWwwV_-uTZ",
        "colab": {
          "base_uri": "https://localhost:8080/"
        },
        "outputId": "a02e5736-897a-4f37-e35b-90b353a02696"
      },
      "source": [
        "bleu_score = calculate_bleu(test_data, SRC, TRG, model, device)\n",
        "\n",
        "print(f'BLEU score = {bleu_score*100:.2f}')"
      ],
      "execution_count": 63,
      "outputs": [
        {
          "output_type": "stream",
          "text": [
            "BLEU score = 35.60\n"
          ],
          "name": "stdout"
        }
      ]
    },
    {
      "cell_type": "markdown",
      "metadata": {
        "id": "Xbl2B8UR7-tq"
      },
      "source": [
        "## Yet to complete (Rough Work)"
      ]
    },
    {
      "cell_type": "code",
      "metadata": {
        "id": "XYf5pfLdwCgt"
      },
      "source": [
        "#prepare data\n",
        "\n",
        "SOS_token=0\n",
        "EOS_token=1\n",
        "class Lang():\n",
        "  def __init__(self,name):\n",
        "    self.name=name\n",
        "    self.word2index={'SOS':0,'EOS':1,'UNK':2,'PAD':3}\n",
        "    self.index2word={0:'SOS',1:'EOS',2:'UNK',3:'PAD'}\n",
        "    self.word2count={}\n",
        "    self.keepwords=[]\n",
        "    self.index=4\n",
        "\n",
        "  def addWord(self,text):\n",
        "    words=[tok.text for tok in spacy_fr.tokenizer(text.lower())] if (self.name=='french') else [tok.text for tok in spacy_en.tokenizer(text.lower())]\n",
        "    for word in words:\n",
        "      # print(word)\n",
        "      if word not in self.word2index:\n",
        "        self.word2index[word]=self.index\n",
        "        self.index2word[self.index]=word\n",
        "        self.word2count[word]=1\n",
        "        self.index+=1\n",
        "      else:\n",
        "        self.word2count[word]+=1\n",
        "\n",
        "  def trimvocab(self,min_count):\n",
        "    for word,count in self.word2count.items():\n",
        "      if count>=min_count:\n",
        "        self.keepwords.append(word)\n",
        "      \n",
        "    print('Initial no of words={0} and after trimming no of words={1}'.format(len(self.word2count),len(self.keepwords)))\n",
        "    self.word2index={'SOS':0,'EOS':1,'UNK':2,'PAD':3}\n",
        "    self.index2word={0:'SOS',1:'EOS',2:'UNK',3:'PAD'}\n",
        "    self.index=4\n",
        "\n",
        "    for word in self.keepwords:\n",
        "      self.addWord(word)\n"
      ],
      "execution_count": null,
      "outputs": []
    },
    {
      "cell_type": "code",
      "metadata": {
        "colab": {
          "base_uri": "https://localhost:8080/"
        },
        "id": "MM6z89RI2-6b",
        "outputId": "7ca68b4d-7678-4db1-e015-5e278b628467"
      },
      "source": [
        "english=Lang('english')\n",
        "\n",
        "book=['Girls are there','50m Girls am glade to meet YOU','GiRls ARE glade to MeeT yOU ThEre']\n",
        "for sent in book:\n",
        "  english.addWord(sent)\n",
        "\n",
        "print(english.word2index)\n",
        "print(english.index2word)\n",
        "print(english.word2count)\n",
        "\n",
        "english.trimvocab(2)\n",
        "print(english.word2index)\n",
        "print(english.index2word)\n",
        "print(english.word2count)"
      ],
      "execution_count": null,
      "outputs": [
        {
          "output_type": "stream",
          "text": [
            "{'SOS': 0, 'EOS': 1, 'UNK': 2, 'PAD': 3, 'girls': 4, 'are': 5, 'there': 6, '50': 7, 'm': 8, 'am': 9, 'glade': 10, 'to': 11, 'meet': 12, 'you': 13}\n",
            "{0: 'SOS', 1: 'EOS', 2: 'UNK', 3: 'PAD', 4: 'girls', 5: 'are', 6: 'there', 7: '50', 8: 'm', 9: 'am', 10: 'glade', 11: 'to', 12: 'meet', 13: 'you'}\n",
            "{'girls': 3, 'are': 2, 'there': 2, '50': 1, 'm': 1, 'am': 1, 'glade': 2, 'to': 2, 'meet': 2, 'you': 2}\n",
            "Initial no of words=10 and after trimming no of words=7\n",
            "{'SOS': 0, 'EOS': 1, 'UNK': 2, 'PAD': 3, 'girls': 4, 'are': 5, 'there': 6, 'glade': 7, 'to': 8, 'meet': 9, 'you': 10}\n",
            "{0: 'SOS', 1: 'EOS', 2: 'UNK', 3: 'PAD', 4: 'girls', 5: 'are', 6: 'there', 7: 'glade', 8: 'to', 9: 'meet', 10: 'you'}\n",
            "{'girls': 1, 'are': 1, 'there': 1, '50': 1, 'm': 1, 'am': 1, 'glade': 1, 'to': 1, 'meet': 1, 'you': 1}\n"
          ],
          "name": "stdout"
        }
      ]
    },
    {
      "cell_type": "code",
      "metadata": {
        "colab": {
          "base_uri": "https://localhost:8080/"
        },
        "id": "60wqpVpgDDJz",
        "outputId": "0abdb4c5-fce5-4674-8e76-71ed754901f4"
      },
      "source": [
        "new_book=[]\n",
        "for sent in book:\n",
        "  new_word=''\n",
        "  for word in spacy_en(sent.lower()):\n",
        "    # print(word.text)\n",
        "    if word.text in english.word2index.keys():\n",
        "      new_word=new_word+word.text+' '\n",
        "    else:\n",
        "      new_word=new_word+'UNK'+' '\n",
        "  new_book.append(new_word.strip())\n",
        "\n",
        "new_book"
      ],
      "execution_count": null,
      "outputs": [
        {
          "output_type": "execute_result",
          "data": {
            "text/plain": [
              "['girls are there',\n",
              " 'UNK UNK girls UNK glade to meet you',\n",
              " 'girls are glade to meet you there']"
            ]
          },
          "metadata": {
            "tags": []
          },
          "execution_count": 103
        }
      ]
    }
  ]
}